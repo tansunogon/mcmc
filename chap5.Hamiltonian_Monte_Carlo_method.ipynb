{
 "cells": [
  {
   "cell_type": "markdown",
   "id": "121693b1",
   "metadata": {},
   "source": [
    "### 5.4.2 ハミルトンの運動方程式\n",
    "\n",
    "$$\n",
    "\\left\\{\n",
    "  \\begin{align}\n",
    "    &\\begin{split}\n",
    "      H&=U(\\theta) + K(p) \n",
    "    \\end{split}\\\\\n",
    "    &\\begin{split}\n",
    "      \\frac{dH}{d\\tau} &=0\n",
    "    \\end{split}\n",
    "  \\end{align}\n",
    "\\right.\n",
    "$$\n",
    "$$\n",
    "\\iff \\left\\{\n",
    "  \\begin{align}\n",
    "    &\\begin{split}\n",
    "      H&=U(\\theta) + K(p) \n",
    "    \\end{split}\\\\\n",
    "    &\\begin{split}\n",
    "      \\frac{dK}{dp}\\frac{dp}{d\\tau} &= - \\frac{dU}{d\\theta}\\frac{d\\theta}{d\\tau}\n",
    "    \\end{split}\n",
    "  \\end{align}\n",
    "\\right.\n",
    "$$\n",
    "$$\n",
    "\\iff \\left\\{\n",
    "  \\begin{align}\n",
    "    &\\begin{split}\n",
    "      H&=U(\\theta) + K(p) \n",
    "    \\end{split}\\\\\n",
    "    &\\begin{split}\n",
    "      a \\times \\frac{dp}{d\\tau} &= - \\frac{dU}{d\\theta}\n",
    "    \\end{split}\\\\\n",
    "    &\\begin{split}\n",
    "      a \\times \\frac{d\\theta}{d\\tau} &= \\frac{dK}{dp}\n",
    "    \\end{split}\n",
    "  \\end{align}\n",
    "\\right. \\text{(ただし, }a\\text{は変数)}\n",
    "$$\n",
    "$$\n",
    "\\lor \\left\\{\n",
    "  \\begin{align}\n",
    "    &\\begin{split}\n",
    "      H&=U(\\theta) + K(p) \n",
    "    \\end{split}\\\\\n",
    "    &\\begin{split}\n",
    "      \\frac{dp}{d\\tau} &= \\frac{d\\theta}{d\\tau} = 0\n",
    "    \\end{split}\n",
    "  \\end{align}\n",
    "\\right.\n",
    "$$\n",
    "\n",
    "$$\n",
    "\\impliedby \\left\\{\n",
    "  \\begin{align}\n",
    "    &\\begin{split}\n",
    "      H&=U(\\theta) + K(p) \n",
    "    \\end{split}\\\\\n",
    "    &\\begin{split}\n",
    "      c \\times \\frac{dp}{d\\tau} &= - \\frac{dU}{d\\theta}\n",
    "    \\end{split}\\\\\n",
    "    &\\begin{split}\n",
    "      c \\times \\frac{d\\theta}{d\\tau} &= \\frac{dK}{dp}\n",
    "    \\end{split}\n",
    "  \\end{align}\n",
    "\\right. \\text{(ただし, }c{は定数)} \\quad (☆)\n",
    "$$\n",
    "書籍で「という関係が得られます．」となっているが，(☆) は必ずしも成立しない．数学的には，係数 $a$ が変数となる場合や $\\frac{dp}{d\\tau} = \\frac{d\\theta}{d\\tau} = 0$ となる場合がある．\n",
    "$$\n",
    "(☆) \\impliedby \\left\\{\n",
    "  \\begin{align}\n",
    "    &\\begin{split}\n",
    "      H&=U(\\theta) + K(p) \n",
    "    \\end{split}\\\\\n",
    "    &\\begin{split}\n",
    "      \\frac{dp}{d\\tau} &= - \\frac{dU}{d\\theta}\n",
    "    \\end{split}\\\\\n",
    "    &\\begin{split}\n",
    "      \\frac{d\\theta}{d\\tau} &= \\frac{dK}{dp}\n",
    "    \\end{split}\n",
    "  \\end{align}\n",
    "\\right.\n",
    "$$\n",
    "\n",
    "#### (考察) ニュートンの運動方程式との比較\n",
    "$$\n",
    "m\\frac{d^2\\theta}{d\\tau^2} = F\n",
    "$$\n",
    "$$\n",
    "\\iff \\left\\{\n",
    "  \\begin{align}\n",
    "    &\\begin{split}\n",
    "      \\frac{dp}{d\\tau}&=F \n",
    "    \\end{split}\\\\\n",
    "    &\\begin{split}\n",
    "      \\frac{d\\theta}{d\\tau} &= \\frac{1}{m} p\n",
    "    \\end{split}\n",
    "  \\end{align}\n",
    "\\right.\n",
    "$$\n",
    "$$\n",
    "\\iff \\left\\{\n",
    "  \\begin{align}\n",
    "    &\\begin{split}\n",
    "      \\frac{dp}{d\\tau}&=F \n",
    "    \\end{split}\\\\\n",
    "    &\\begin{split}\n",
    "      \\frac{d\\theta}{d\\tau} &= \\frac{d\\left(\\frac{p^2}{2m} + C\\right)}{dp}\n",
    "    \\end{split} \\quad \\text{(ただし, }C\\text{は変数)}\n",
    "  \\end{align}\n",
    "\\right.\n",
    "$$\n",
    "\n",
    "力 $F$ が保存力であるとすれば，$F=-\\frac{dU}{d\\theta}$と書ける．さらに，$K$を$K=\\frac{p^2}{2m} + C$とすると，ニュートンの運動方程式をハミルトン形式にすることができる．\n",
    "$$\n",
    "\\left\\{\n",
    "  \\begin{align}\n",
    "    &\\begin{split}\n",
    "      \\frac{dp}{d\\tau} &= - \\frac{dU}{d\\theta}\n",
    "    \\end{split}\\\\\n",
    "    &\\begin{split}\n",
    "      \\frac{d\\theta}{d\\tau} &= \\frac{dK}{dp}\n",
    "    \\end{split}\n",
    "  \\end{align}\n",
    "\\right.\n",
    "$$\n",
    "\n",
    "#### まとめ\n",
    "\n",
    "ハミルトンの運動方程式は，ハミルトン関数 $H=U + K$ が一定であるときの，運動方法の一つを表している．ハミルトン関数 $H$ が一定であるような運動方法は無数にあるが，ハミルトンの運動方程式を採用すれば，一つの運動方法が得られる．\n",
    "\n",
    "ハミルトニアンモンテカルロメソッドにおいては，ハミルトニアン関数が一定である運動方法が一つでも得られればよい．そのため，ハミルトニアンの運動方程式を採用すれば十分である．\n",
    "\n",
    "物理の世界では，ハミルトンの運動方程式が実際の運動方法を表すように，ハミルトン関数をうまく設計する．例えば，保存力のみが働いている場合のニュートンの運動方程式は， $K=\\frac{p^2}{2m}$としたハミルトンの運動方程式で表現できる．\n",
    "\n",
    "ハミルトン形式では，力学的エネルギー $K$ を自由に設計でき，座標系も自由に設計できる．そのため，ハミルトン形式は，保存力のみが働いている場合に限定されてはいるが，ニュートン力学を一般化した形式であると言える．"
   ]
  },
  {
   "cell_type": "markdown",
   "id": "005c0723",
   "metadata": {},
   "source": [
    "## 5.5 HMC 法\n",
    "\n",
    "### 書籍の方法を考察する (書籍の方法は誤りであることを確かめる)\n",
    "\n",
    "$(\\theta, p)$ を初期状態とし，$L$ ステップ後での状態を $(\\theta', p')$ とする．このとき，次の$(5.46)$式は誤り．\n",
    "\n",
    "$$f(\\theta', p'| \\theta,p) = f(\\theta, p| \\theta', p') \\quad (5.46)$$\n",
    "\n",
    "今の仮定において $(左辺)=f(\\theta', p'| \\theta, p)$の遷移は必ず発生するが，$(\\theta, p)\\neq(\\theta', p')$であれば，$(右辺)=f(\\theta, p| \\theta', p') = 0$となるため，$(5.46)$式は成り立たない．位相空間で逆回転の運動は起こらないからである．逆の運動をさせるには運動量の符号を反転させる必要がある．詳細釣り合い条件を導くために$(\\theta, p)$の状態と$(\\theta, -p)$の状態を同一視する方法を考えてみる．\n",
    "\n",
    "以下，$(\\theta, p)$の状態と$(\\theta, -p)$の状態を同一視した場合の詳細釣り合い条件について考察する．運動が可逆であることを式で表すと次のようになる．\n",
    "\n",
    "$$f(\\theta', p'| \\theta, p) = f(\\theta, -p| \\theta', -p')$$\n",
    "\n",
    "$p$を$-p$で置き換えると，\n",
    "\n",
    "$$f(\\theta', p'| \\theta, -p) = f(\\theta, p| \\theta', -p')$$\n",
    "\n",
    "直前の２つの式と状態遷移が非確率的（決定的）であることから，\n",
    "\n",
    "$$f(\\theta', p'| \\theta, \\{p, -p\\}) = f(\\theta, \\{p, -p\\}| \\theta', -p')$$\n",
    "\n",
    "$p'$を$-p'$で置き換えると，\n",
    "\n",
    "$$f(\\theta', -p'| \\theta, \\{p, -p\\}) = f(\\theta, \\{p, -p\\}| \\theta', p')$$\n",
    "\n",
    "直前の２つの式と状態遷移が非確率的（決定的）であることから，\n",
    "\n",
    "$$f(\\theta', \\{p', -p'\\}| \\theta, \\{p, -p\\}) = f(\\theta, \\{p, -p\\}| \\theta', \\{p', -p'\\})$$\n",
    "\n",
    "ハミルトニアンが変化しないように遷移するから，$p\\neq0$ かつ$p'\\neq0$のとき，\n",
    "\n",
    "$$f(\\theta, \\{p, -p\\}) = f(\\theta', \\{p', -p'\\})$$\n",
    "\n",
    "である．したがって，$p\\neq0$ かつ$p'\\neq0$のとき，\n",
    "\n",
    "$$f(\\theta', \\{p', -p'\\}| \\theta, \\{p, -p\\})f(\\theta, \\{p, -p\\}) = f(\\theta, \\{p, -p\\}| \\theta', \\{p', -p'\\})f(\\theta', \\{p', -p'\\})$$\n",
    "\n",
    "であり，詳細釣り合い条件式が成立する．\n",
    "\n",
    "補正係数 $r$ は，$p^{(t)}\\neq0$ かつ$p^{(a)}\\neq0$のとき，\n",
    "\n",
    "$$r = \\frac{f(\\theta^{(a)}, \\{p^{(a)}, -p^{(a)}\\})}{f(\\theta^{(t)}, \\{p^{(t)}, -p^{(t)}\\})}=\\frac{2f(\\theta^{(a)}, \\left|p^{(a)}\\right|)}{2f(\\theta^{(t)}, \\left|p^{(t)}\\right|)}=\\exp\\left( H(\\theta^{(t)},p^{(t)})-H(\\theta^{(a)},p^{(a)})\\right)$$\n",
    "\n",
    "となる．これは書籍と同じ式である．\n",
    "しかし，$p^{(t)}=0\\land p^{(a)}\\neq0$の場合や$p^{(t)}\\neq0\\land p^{(a)}=0$の場合，$f(\\theta, \\{p, -p\\}) = f(\\theta', \\{p', -p'\\})$が成立しないため，上の補正係数 $r$ はそのまま使えず，2や1/2という係数が必要になる．\n",
    "\n",
    "書籍の方法はうまくいかなかったので別の方法で考察する必要がある．\n",
    "\n",
    "### 運動量を反転させる方法を考察する\n",
    "\n",
    "アーカイブサービス arXiv にある次の論文を参考にした: Betancourt, Michael (2018). A Conceptual Introduction to Hamiltonian Monte Carlo. arXiv https://arxiv.org/abs/1701.02434\n",
    "\n",
    "$(\\theta_0, p_0)$ を初期状態とし，$L$ ステップ後での状態を $(\\theta_L, p_L)$ とする．\n",
    "\n",
    "書籍の考察方法では，遷移 $(\\theta_0, p_0) \\rightarrow (\\theta_L, p_L)$の逆方向の遷移が起こらないため問題になった．そこで，$(\\theta_0, p_0) \\rightarrow (\\theta_L, -p_L)$ に遷移するようにする．このようにすれば，$(\\theta_L, -p_L)$を初期状態としたときの $L$ ステップ後での状態は $(\\theta_0, p_0)$ になり，逆方向の遷移が順方向の遷移と等確率で起こるようになる．\n",
    "\n",
    "### 遷移を正しく考察する\n",
    "\n",
    "この節での考察は，ハミルトニアンモンテカルロ法の原論文を参考にした: Duane, Simon; Kennedy, Anthony D.; Pendleton, Brian J.; Roweth, Duncan (3 September 1987). “Hybrid Monte Carlo”. Physics Letters B 195 (2): 216–222. Bibcode: 1987PhLB..195..216D. doi:10.1016/0370-2693(87)91197-X.\n",
    "\n",
    "書籍の議論では，$p$が更新されることを考慮していないので，$(\\theta_0, p_0) \\leftrightarrow (\\theta_L, -p_L)$ の２つの状態間で詳細釣り合い条件しか議論できておらず，ハミルトニアンモンテカルロ法で行う遷移が詳細釣り合い条件を満たすことは言えていない．ハミルトニアンモンテカルロ法では，状態 $(\\theta, p)$ から $(\\theta', p')$ に遷移するというよりも，$\\theta$ から $\\theta'$ に遷移しているといえる．$p$は毎度独立にガウス分布に従い生成するため，状態に含める必要はない．そのため，この節では状態は $\\theta$だけであるとして，ハミルトニアンモンテカルロ法で行う遷移が詳細釣り合い条件を満たすかどうか考察する．次の詳細釣り合い条件が満たせれることを示したい．\n",
    "\n",
    "$$f(\\theta'|\\theta)f(\\theta)=f(\\theta|\\theta')f(\\theta')$$\n",
    "\n",
    "\n",
    "#### 定義\n",
    "\n",
    "$q(p)$: 運動量 $p$ が生成される確率密度を $q(p)$ とする．\n",
    "\n",
    "$$q(p)=\\frac{1}{\\sqrt{2\\pi}}\\exp\\{-\\frac{p^2}{2}\\}$$\n",
    "\n",
    "$q_H((\\theta, p) \\rightarrow (\\theta', p'))$: 状態 $(\\theta, p)$ から，ハミルトンの運動方程式に従い $L$ ステップ遷移させて状態$(\\theta', p')$に遷移する確率密度を $q_H((\\theta, p) \\rightarrow (\\theta', p'))$ と書くことにする．\n",
    "\n",
    "$$q_H((\\theta, p) \\rightarrow (\\theta', p'))=\\delta(\\theta' - \\theta_L)\\delta(p' - p_L)$$\n",
    "\n",
    "$q_A((\\theta, p) \\rightarrow (\\theta', p'))$: 状態 $(\\theta, p)$ から状態$(\\theta', p')$への遷移が受理される確率を $q_A((\\theta, p) \\rightarrow (\\theta', p'))$ と書くことにする．\n",
    "\n",
    "$$q_A((\\theta, p) \\rightarrow (\\theta', p'))=\\min\\left\\{1,\\exp\\left( H(\\theta,p)-H(\\theta',p')\\right)\\right\\}$$\n",
    "\n",
    "#### 考察\n",
    "\n",
    "$$\n",
    "\\begin{align}\n",
    "&\\exp\\left(-H(\\theta,p)\\right)q_A((\\theta, p) \\rightarrow (\\theta', p'))\\\\\n",
    "&=\\exp\\left(-H(\\theta,p)\\right)\\min\\left\\{1,\\exp\\left( H(\\theta,p)-H(\\theta',p')\\right)\\right\\}\\\\\n",
    "&=\\min\\left\\{\\exp\\left(-H(\\theta,p)\\right),\\exp\\left(-H(\\theta',p')\\right)\\right\\}\\\\\n",
    "&=\\exp\\left(-H(\\theta',p')\\right)\\min\\left\\{\\exp\\left( H(\\theta',p')-H(\\theta,p)\\right),1\\right\\}\\\\\n",
    "&=\\exp\\left(-H(\\theta',p')\\right)q_A((\\theta', p') \\rightarrow (\\theta, p))\\\\\n",
    "\\end{align}\n",
    "$$\n",
    "\n",
    "\n",
    "$\\exp\\left(-H(\\theta,p)\\right)=f(\\theta)q(p)$ であるから，\n",
    "$$f(\\theta)q(p)q_A((\\theta, p) \\rightarrow (\\theta', p')) = f(\\theta')q(p')q_A((\\theta', p') \\rightarrow (\\theta, p))$$\n",
    "\n",
    "分布 $q(p)$ は偶関数であるため，$q(p')=q(-p')$ と $q_A((\\theta', p') \\rightarrow (\\theta, p))=q_A((\\theta', -p') \\rightarrow (\\theta, -p))$ が成り立つ．これらを右辺に適応して，\n",
    "$$f(\\theta)q(p)q_A((\\theta, p) \\rightarrow (\\theta', p')) = f(\\theta')q(-p')q_A((\\theta', -p') \\rightarrow (\\theta, -p))$$\n",
    "\n",
    "運動は可逆であるから，$q_H((\\theta, p) \\rightarrow (\\theta', p'))=q_H((\\theta', -p') \\rightarrow (\\theta, -p))$ である．\n",
    "辺々を掛ると，\n",
    "$$f(\\theta)q(p)q_H((\\theta, p) \\rightarrow (\\theta', p'))q_A((\\theta, p) \\rightarrow (\\theta', p')) = f(\\theta')q(-p')q_H((\\theta', -p') \\rightarrow (\\theta, -p))q_A((\\theta', -p') \\rightarrow (\\theta, -p))$$\n",
    "\n",
    "再び，右辺の $-p$ を $p$で置き換え，$-p'$ を $p'$で置き換えると，\n",
    "$$f(\\theta)q(p)q_H((\\theta, p) \\rightarrow (\\theta', p'))q_A((\\theta, p) \\rightarrow (\\theta', p')) = f(\\theta')q(p')q_H((\\theta', p') \\rightarrow (\\theta, p))q_A((\\theta', p') \\rightarrow (\\theta, p))$$\n",
    "\n",
    "$p$, $p'$ で積分すれば，\n",
    "\n",
    "$$f(\\theta'|\\theta)f(\\theta)=f(\\theta|\\theta')f(\\theta')$$\n",
    "\n",
    "となるため，詳細釣り合い条件が得られた．"
   ]
  },
  {
   "cell_type": "code",
   "execution_count": 1,
   "id": "69cf171f",
   "metadata": {},
   "outputs": [],
   "source": [
    "import random\n",
    "import math\n",
    "import sympy\n",
    "import numpy as np\n",
    "import matplotlib.pyplot as plt\n",
    "import pandas as pd"
   ]
  },
  {
   "cell_type": "code",
   "execution_count": 2,
   "id": "1112b7e4",
   "metadata": {},
   "outputs": [],
   "source": [
    "theta = sympy.symbols(r'\\theta')\n",
    "p = sympy.Symbol('p')\n",
    "\n",
    "\n",
    "class HMC:\n",
    "    def __init__(self,\n",
    "                 start,\n",
    "                 target_symfunc,\n",
    "                 eps=0.05,\n",
    "                 L=15):\n",
    "        h = - sympy.log(target_symfunc)\n",
    "        h_diff = h.diff(theta).simplify()\n",
    "        H = - h - p**2 / 2\n",
    "        \n",
    "        self.f = sympy.lambdify(theta, target_symfunc)\n",
    "        self.h = sympy.lambdify(theta, h)\n",
    "        self.h_diff = sympy.lambdify(theta, h_diff)\n",
    "        self.H = sympy.lambdify((theta, p), H)\n",
    "        \n",
    "        self.f_sym = target_symfunc\n",
    "        self.h_sym = h\n",
    "        self.h_diff_sym = h_diff\n",
    "        self.H_sym = H\n",
    "        \n",
    "        self.theta = start\n",
    "        self.eps = eps\n",
    "        self.L = L\n",
    "        self.accepted = 0\n",
    "        self.n = 0\n",
    "\n",
    "    \n",
    "    def leap_frog_one_step(self, theta, p):\n",
    "        p_05 = p - 0.5*self.eps*self.h_diff(theta)\n",
    "        theta_1 = theta + self.eps*p_05\n",
    "        p_1 = p_05 - 0.5*self.eps*self.h_diff(theta_1)\n",
    "        return theta_1, p_1\n",
    "    \n",
    "    def leap_frog(self, theta, p):\n",
    "        for _ in range(self.L):\n",
    "            theta, p = self.leap_frog_one_step(theta, p)\n",
    "        return theta, p\n",
    "\n",
    "    def __next__(self):\n",
    "        p_t = random.gauss(0, 1)\n",
    "        theta_a, p_a = self.leap_frog(self.theta, p_t)\n",
    "        r = math.exp(self.H(self.theta, p_t) - self.H(theta_a, p_a))\n",
    "        if random.random() < r:\n",
    "            self.theta = theta_a\n",
    "            self.accepted += 1\n",
    "        self.n += 1\n",
    "        return self.theta"
   ]
  },
  {
   "cell_type": "code",
   "execution_count": 3,
   "id": "2a8829ec",
   "metadata": {},
   "outputs": [],
   "source": [
    "def experiment(alg, T, B):\n",
    "    data = []\n",
    "    for _ in range(T):\n",
    "        data.append(alg.__next__())\n",
    "    print(f\"受容率: {alg.accepted}/{alg.n} = {alg.accepted / alg.n}\")\n",
    "    plt.hist(data[B:], bins=int(math.log(T-B)*2))\n",
    "    plt.show()\n",
    "    plt.plot(data[:B])\n",
    "    plt.show()\n",
    "    plt.plot(data[B:])\n",
    "    plt.show()\n",
    "    return data[B:]"
   ]
  },
  {
   "cell_type": "code",
   "execution_count": 4,
   "id": "eb435630",
   "metadata": {},
   "outputs": [
    {
     "name": "stdout",
     "output_type": "stream",
     "text": [
      "表 5.1 の左\n",
      "p, theta, h(theta), H(theta, p)\n",
      " 1 0.0000 0.1000 24.3259 -24.3259\n",
      " 2 3.0476 0.2088 18.3799 -23.0239\n",
      " 3 4.2129 0.4048 14.3065 -23.1806\n",
      " 4 4.5773 0.6300 12.8103 -23.2861\n",
      " 5 4.6140 0.8625 12.6917 -23.3361\n",
      " 6 4.4829 1.0914 13.3137 -23.3618\n",
      " 7 4.2527 1.3108 14.3339 -23.3765\n",
      " 8 3.9582 1.5167 15.5517 -23.3855\n",
      " 9 3.6195 1.7066 16.8408 -23.3914\n",
      "10 3.2491 1.8787 18.1170 -23.3953\n",
      "11 2.8552 2.0315 19.3219 -23.3981\n",
      "12 2.4438 2.1642 20.4139 -23.4001\n",
      "13 2.0192 2.2759 21.3629 -23.4015\n",
      "14 1.5847 2.3661 22.1469 -23.4025\n",
      "15 1.1431 2.4344 22.7499 -23.4032\n",
      "\n",
      "表 5.1 の右\n",
      "p, theta, h(theta), H(theta, p)\n",
      " 1 -1.1431 2.4344 22.7502 -23.4035\n",
      " 2 -1.5847 2.3661 22.1471 -23.4028\n",
      " 3 -2.0192 2.2759 21.3632 -23.4018\n",
      " 4 -2.4439 2.1642 20.4141 -23.4004\n",
      " 5 -2.8553 2.0315 19.3221 -23.3984\n",
      " 6 -3.2492 1.8787 18.1171 -23.3957\n",
      " 7 -3.6196 1.7066 16.8409 -23.3917\n",
      " 8 -3.9583 1.5167 15.5518 -23.3859\n",
      " 9 -4.2527 1.3108 14.3340 -23.3769\n",
      "10 -4.4830 1.0914 13.3137 -23.3622\n",
      "11 -4.6140 0.8625 12.6917 -23.3364\n",
      "12 -4.5774 0.6300 12.8103 -23.2865\n",
      "13 -4.2129 0.4048 14.3065 -23.1809\n",
      "14 -3.0476 0.2087 18.3802 -23.0242\n",
      "15 0.0002 0.1000 24.3264 -24.3264\n"
     ]
    }
   ],
   "source": [
    "alg = HMC(0.1, sympy.exp(-13*theta)*theta**10)\n",
    "\n",
    "\n",
    "def leap_frog_test(alg, theta, p, L):\n",
    "    print(\"p, theta, h(theta), H(theta, p)\")\n",
    "    for i in range(L):\n",
    "        print(\"{:2} {:.4f} {:.4f} {:.4f} {:.4f}\".format(i+1,\n",
    "                                                        p,\n",
    "                                                        theta,\n",
    "                                                        alg.h(theta),\n",
    "                                                        alg.H(theta, p)))\n",
    "        theta, p = alg.leap_frog_one_step(theta, p)\n",
    "\n",
    "\n",
    "print(\"表 5.1 の左\")\n",
    "leap_frog_test(alg, 0.1, 0, 15)\n",
    "print()\n",
    "print(\"表 5.1 の右\")\n",
    "leap_frog_test(alg, 2.4344, -1.1431, 15)"
   ]
  },
  {
   "cell_type": "markdown",
   "id": "7afae95e",
   "metadata": {},
   "source": [
    "### 章末問題 p.125 (10)"
   ]
  },
  {
   "cell_type": "code",
   "execution_count": 5,
   "id": "3709290b",
   "metadata": {},
   "outputs": [
    {
     "name": "stdout",
     "output_type": "stream",
     "text": [
      "受容率: 29985/30000 = 0.9995\n"
     ]
    },
    {
     "data": {
      "image/png": "[encoded data removed]",
      "text/plain": [
       "<Figure size 432x288 with 1 Axes>"
      ]
     },
     "metadata": {
      "needs_background": "light"
     },
     "output_type": "display_data"
    },
    {
     "data": {
      "image/png": "[encoded data removed]",
      "text/plain": [
       "<Figure size 432x288 with 1 Axes>"
      ]
     },
     "metadata": {
      "needs_background": "light"
     },
     "output_type": "display_data"
    },
    {
     "data": {
      "image/png": "[encoded data removed]",
      "text/plain": [
       "<Figure size 432x288 with 1 Axes>"
      ]
     },
     "metadata": {
      "needs_background": "light"
     },
     "output_type": "display_data"
    }
   ],
   "source": [
    "target_func = theta**(10.2-1) * (1-theta)**(5.8-1)\n",
    "#target_func_cond = sympy.Piecewise((target_func, (0 <= theta) & (theta <= 1)),\n",
    "#                                   (0, True))\n",
    "\n",
    "alg = HMC(0.7, target_func, eps=0.01, L=100)\n",
    "data = experiment(alg, 30000, 100)"
   ]
  },
  {
   "cell_type": "code",
   "execution_count": 6,
   "id": "f1b4af66",
   "metadata": {},
   "outputs": [
    {
     "name": "stdout",
     "output_type": "stream",
     "text": [
      "理論値: 0.6375\n",
      "実験結果: 0.6373776193747296\n"
     ]
    }
   ],
   "source": [
    "print(\"理論値:\", 10.2/(10.2+5.8))\n",
    "print(\"実験結果:\", sum(data)/len(data))"
   ]
  },
  {
   "cell_type": "markdown",
   "id": "66386ac6",
   "metadata": {},
   "source": [
    "## 5.6 多次元の場合"
   ]
  },
  {
   "cell_type": "code",
   "execution_count": 7,
   "id": "455dd7fb",
   "metadata": {},
   "outputs": [],
   "source": [
    "def create_gradient(func, args):\n",
    "    diff_list = list()\n",
    "    for arg in args:\n",
    "        diff_list.append(func.diff(arg).simplify())\n",
    "    return sympy.matrices.Matrix(diff_list)"
   ]
  },
  {
   "cell_type": "code",
   "execution_count": 8,
   "id": "19739f99",
   "metadata": {},
   "outputs": [],
   "source": [
    "class HMC_multi:\n",
    "    def __init__(self,\n",
    "                 theta,\n",
    "                 start,\n",
    "                 target_symfunc,\n",
    "                 log=False,\n",
    "                 eps=0.05,\n",
    "                 L=15):\n",
    "        p = list()\n",
    "        for i in range(len(theta)):\n",
    "            p.append(sympy.Symbol(f'p{i+1}'))\n",
    "        p_vec = sympy.matrices.Matrix(p)\n",
    "        h = None\n",
    "        if log:\n",
    "            h = - target_symfunc\n",
    "        else:\n",
    "            h = - sympy.log(target_symfunc)\n",
    "        h_diff = create_gradient(h, theta)\n",
    "        H = - h - (p_vec.T*p_vec)[0] / 2\n",
    "        \n",
    "        self.f = sympy.lambdify([theta], target_symfunc, 'numpy')\n",
    "        self.h = sympy.lambdify([theta], h, 'numpy')\n",
    "        self.h_diff = sympy.lambdify([theta], h_diff, 'numpy')\n",
    "        self.H = sympy.lambdify((theta, p), H, 'numpy')\n",
    "        \n",
    "        self.f_sym = target_symfunc\n",
    "        self.h_sym = h\n",
    "        self.h_diff_sym = h_diff\n",
    "        self.H_sym = H\n",
    "        \n",
    "        self.num_of_args = len(theta)\n",
    "        self.theta = np.array(start)\n",
    "        self.eps = eps\n",
    "        self.L = L\n",
    "        self.accepted = 0\n",
    "        self.n = 0\n",
    "\n",
    "    def leap_frog_one_step(self, theta, p):\n",
    "        p_05 = p.reshape(-1, 1) - 0.5*self.eps*self.h_diff(theta)\n",
    "        theta_1 = theta.reshape(-1, 1) + self.eps*p_05\n",
    "        theta_1 = theta_1.reshape(-1)\n",
    "        p_1 = p_05.reshape(-1, 1) - 0.5*self.eps*self.h_diff(theta_1)\n",
    "        return theta_1.reshape(-1), p_1.reshape(-1)\n",
    "    \n",
    "    def leap_frog(self, theta, p):\n",
    "        for _ in range(self.L):\n",
    "            theta, p = self.leap_frog_one_step(theta, p)\n",
    "        return theta, p\n",
    "\n",
    "    def __next__(self):\n",
    "        p_t = [random.gauss(0, 1) for _ in range(self.num_of_args)]\n",
    "        p_t = np.array(p_t)\n",
    "        theta_a, p_a = self.leap_frog(self.theta, p_t)\n",
    "        r = math.exp(self.H(self.theta, p_t) - self.H(theta_a, p_a))\n",
    "        if random.random() < r:\n",
    "            self.theta = theta_a\n",
    "            self.accepted += 1\n",
    "        self.n += 1\n",
    "        return self.theta"
   ]
  },
  {
   "cell_type": "markdown",
   "id": "9e2ce01f",
   "metadata": {},
   "source": [
    "### 正規分布の推定\n",
    "\n",
    "6.3 章末問題 (1)"
   ]
  },
  {
   "cell_type": "code",
   "execution_count": 9,
   "id": "4958f6b0",
   "metadata": {},
   "outputs": [
    {
     "name": "stdout",
     "output_type": "stream",
     "text": [
      "73875.0\n",
      "18091058.333333332\n"
     ]
    }
   ],
   "source": [
    "def create_posterior_logfunc(x_list, mu, s2):\n",
    "    n = len(x_list)\n",
    "    x_mat = sympy.matrices.Matrix(x_list)\n",
    "    mu_mat = mu * sympy.matrices.ones(n, 1)\n",
    "    diff = x_mat - mu_mat\n",
    "    sum_of_squares = (diff.T * diff)[0]\n",
    "    return -n / 2 * sympy.log(s2) - 1/(2*s2) * sum_of_squares\n",
    "\n",
    "\n",
    "mu, s2 = sympy.symbols(\"\\mu \\sigma^2\")\n",
    "x_list = [76230, 73550, 80750, 71500, 75420, 74840,\n",
    "          71580, 76920, 68450, 76990, 64070, 76200]\n",
    "ave = sum(x_list) / len(x_list)\n",
    "a = 0\n",
    "for i in range(len(x_list)):\n",
    "    a += (x_list[i] - ave)**2\n",
    "print(ave)\n",
    "print(a/len(x_list))\n",
    "logfunc = create_posterior_logfunc(x_list, mu, s2)"
   ]
  },
  {
   "cell_type": "code",
   "execution_count": 10,
   "id": "a2717ca5",
   "metadata": {},
   "outputs": [
    {
     "name": "stdout",
     "output_type": "stream",
     "text": [
      "受容率: 99930/100000 = 0.9993\n"
     ]
    },
    {
     "data": {
      "image/png": "[encoded data removed]",
      "text/plain": [
       "<Figure size 432x288 with 1 Axes>"
      ]
     },
     "metadata": {
      "needs_background": "light"
     },
     "output_type": "display_data"
    },
    {
     "data": {
      "image/png": "[encoded data removed]",
      "text/plain": [
       "<Figure size 432x288 with 1 Axes>"
      ]
     },
     "metadata": {
      "needs_background": "light"
     },
     "output_type": "display_data"
    },
    {
     "data": {
      "image/png": "[encoded data removed]",
      "text/plain": [
       "<Figure size 432x288 with 1 Axes>"
      ]
     },
     "metadata": {
      "needs_background": "light"
     },
     "output_type": "display_data"
    }
   ],
   "source": [
    "def experiment2(alg, T, B):\n",
    "    data = []\n",
    "    for _ in range(T):\n",
    "        data.append(alg.__next__())\n",
    "    print(f\"受容率: {alg.accepted}/{alg.n} = {alg.accepted / alg.n}\")\n",
    "    x = list(sample[0] for sample in data[B:])\n",
    "    y = list(sample[1] for sample in data[B:])\n",
    "    plt.plot(x)\n",
    "    plt.show()\n",
    "    plt.plot(y)\n",
    "    plt.show()\n",
    "    plt.scatter(x, y)\n",
    "    plt.show()\n",
    "    return data[B:]\n",
    "\n",
    "\n",
    "alg = HMC_multi([mu, s2], [73875, 18091058], logfunc, log=True, eps=150, L=5)\n",
    "data = experiment2(alg, 100000, 1000)"
   ]
  },
  {
   "cell_type": "code",
   "execution_count": 11,
   "id": "a22435ba",
   "metadata": {},
   "outputs": [
    {
     "name": "stdout",
     "output_type": "stream",
     "text": [
      "73886.23220135206\n"
     ]
    }
   ],
   "source": [
    "x = list(sample[0] for sample in data)\n",
    "print(sum(x)/len(x))"
   ]
  },
  {
   "cell_type": "code",
   "execution_count": 12,
   "id": "0c00c6f6",
   "metadata": {},
   "outputs": [
    {
     "data": {
      "text/plain": [
       "[76193.33923111242,\n",
       " 75016.58754469441,\n",
       " 75120.1855314902,\n",
       " 75538.31124704183,\n",
       " 74702.73608986559,\n",
       " 75475.24782825955,\n",
       " 74864.86763833204,\n",
       " 73877.3346402203,\n",
       " 74080.69077579553,\n",
       " 75646.66880871372]"
      ]
     },
     "execution_count": 12,
     "metadata": {},
     "output_type": "execute_result"
    }
   ],
   "source": [
    "x[-10:]"
   ]
  },
  {
   "cell_type": "code",
   "execution_count": 13,
   "id": "770c45a0",
   "metadata": {},
   "outputs": [
    {
     "data": {
      "text/html": [
       "<div>\n",
       "<style scoped>\n",
       "    .dataframe tbody tr th:only-of-type {\n",
       "        vertical-align: middle;\n",
       "    }\n",
       "\n",
       "    .dataframe tbody tr th {\n",
       "        vertical-align: top;\n",
       "    }\n",
       "\n",
       "    .dataframe thead th {\n",
       "        text-align: right;\n",
       "    }\n",
       "</style>\n",
       "<table border=\"1\" class=\"dataframe\">\n",
       "  <thead>\n",
       "    <tr style=\"text-align: right;\">\n",
       "      <th></th>\n",
       "      <th>count</th>\n",
       "      <th>mean</th>\n",
       "      <th>std</th>\n",
       "      <th>min</th>\n",
       "      <th>2.5%</th>\n",
       "      <th>50%</th>\n",
       "      <th>97.5%</th>\n",
       "      <th>max</th>\n",
       "    </tr>\n",
       "  </thead>\n",
       "  <tbody>\n",
       "    <tr>\n",
       "      <th>mu</th>\n",
       "      <td>99000.0</td>\n",
       "      <td>73886.232201</td>\n",
       "      <td>1232.761169</td>\n",
       "      <td>68424.573688</td>\n",
       "      <td>71464.876499</td>\n",
       "      <td>73889.277787</td>\n",
       "      <td>76298.723659</td>\n",
       "      <td>79957.87261</td>\n",
       "    </tr>\n",
       "  </tbody>\n",
       "</table>\n",
       "</div>"
      ],
      "text/plain": [
       "      count          mean          std           min          2.5%  \\\n",
       "mu  99000.0  73886.232201  1232.761169  68424.573688  71464.876499   \n",
       "\n",
       "             50%         97.5%          max  \n",
       "mu  73889.277787  76298.723659  79957.87261  "
      ]
     },
     "execution_count": 13,
     "metadata": {},
     "output_type": "execute_result"
    }
   ],
   "source": [
    "df = pd.DataFrame([x],\n",
    "                  index=[\"mu\"])\n",
    "df.T.describe(percentiles=[0.025, 0.975]).T"
   ]
  },
  {
   "cell_type": "markdown",
   "id": "3d80c6f5",
   "metadata": {},
   "source": [
    "分散の方がランダムウォークになっていないのでスケールを変える"
   ]
  },
  {
   "cell_type": "code",
   "execution_count": 14,
   "id": "8af968e4",
   "metadata": {},
   "outputs": [],
   "source": [
    "scale = 5000\n",
    "\n",
    "def create_posterior_logfunc2(x_list, mu, s2):\n",
    "    n = len(x_list)\n",
    "    x_mat = sympy.matrices.Matrix(x_list)\n",
    "    mu_mat = mu * sympy.matrices.ones(n, 1)\n",
    "    diff = x_mat - mu_mat\n",
    "    sum_of_squares = (diff.T * diff)[0]\n",
    "    return -n / 2 * sympy.log(s2*scale) - 1/(2*s2*scale) * sum_of_squares\n",
    "\n",
    "logfunc2 = create_posterior_logfunc2(x_list, mu, s2)"
   ]
  },
  {
   "cell_type": "code",
   "execution_count": 15,
   "id": "2f73be66",
   "metadata": {},
   "outputs": [
    {
     "name": "stdout",
     "output_type": "stream",
     "text": [
      "受容率: 99910/100000 = 0.9991\n"
     ]
    },
    {
     "data": {
      "image/png": "[encoded data removed]",
      "text/plain": [
       "<Figure size 432x288 with 1 Axes>"
      ]
     },
     "metadata": {
      "needs_background": "light"
     },
     "output_type": "display_data"
    },
    {
     "data": {
      "image/png": "[encoded data removed]",
      "text/plain": [
       "<Figure size 432x288 with 1 Axes>"
      ]
     },
     "metadata": {
      "needs_background": "light"
     },
     "output_type": "display_data"
    },
    {
     "data": {
      "image/png": "[encoded data removed]",
      "text/plain": [
       "<Figure size 432x288 with 1 Axes>"
      ]
     },
     "metadata": {
      "needs_background": "light"
     },
     "output_type": "display_data"
    }
   ],
   "source": [
    "alg = HMC_multi([mu, s2], [73875, 18091058/scale], logfunc2, log=True, eps=150, L=5)\n",
    "data = experiment2(alg, 100000, 1000)"
   ]
  },
  {
   "cell_type": "code",
   "execution_count": 16,
   "id": "de655410",
   "metadata": {},
   "outputs": [
    {
     "data": {
      "text/html": [
       "<div>\n",
       "<style scoped>\n",
       "    .dataframe tbody tr th:only-of-type {\n",
       "        vertical-align: middle;\n",
       "    }\n",
       "\n",
       "    .dataframe tbody tr th {\n",
       "        vertical-align: top;\n",
       "    }\n",
       "\n",
       "    .dataframe thead th {\n",
       "        text-align: right;\n",
       "    }\n",
       "</style>\n",
       "<table border=\"1\" class=\"dataframe\">\n",
       "  <thead>\n",
       "    <tr style=\"text-align: right;\">\n",
       "      <th></th>\n",
       "      <th>count</th>\n",
       "      <th>mean</th>\n",
       "      <th>std</th>\n",
       "      <th>min</th>\n",
       "      <th>2.5%</th>\n",
       "      <th>50%</th>\n",
       "      <th>97.5%</th>\n",
       "      <th>max</th>\n",
       "    </tr>\n",
       "  </thead>\n",
       "  <tbody>\n",
       "    <tr>\n",
       "      <th>mu</th>\n",
       "      <td>99000.0</td>\n",
       "      <td>73886.232201</td>\n",
       "      <td>1232.761169</td>\n",
       "      <td>68424.573688</td>\n",
       "      <td>71464.876499</td>\n",
       "      <td>73889.277787</td>\n",
       "      <td>76298.723659</td>\n",
       "      <td>79957.87261</td>\n",
       "    </tr>\n",
       "  </tbody>\n",
       "</table>\n",
       "</div>"
      ],
      "text/plain": [
       "      count          mean          std           min          2.5%  \\\n",
       "mu  99000.0  73886.232201  1232.761169  68424.573688  71464.876499   \n",
       "\n",
       "             50%         97.5%          max  \n",
       "mu  73889.277787  76298.723659  79957.87261  "
      ]
     },
     "execution_count": 16,
     "metadata": {},
     "output_type": "execute_result"
    }
   ],
   "source": [
    "df = pd.DataFrame([x],\n",
    "                  index=[\"mu\"])\n",
    "df.T.describe(percentiles=[0.025, 0.975]).T"
   ]
  },
  {
   "cell_type": "code",
   "execution_count": 17,
   "id": "525f5ba1",
   "metadata": {},
   "outputs": [
    {
     "name": "stdout",
     "output_type": "stream",
     "text": [
      "0.9991212121212121\n"
     ]
    }
   ],
   "source": [
    "count70000 = 0\n",
    "for sample in x:\n",
    "    if sample > 70000:\n",
    "        count70000 += 1\n",
    "print(count70000 / len(x))"
   ]
  },
  {
   "cell_type": "code",
   "execution_count": 18,
   "id": "0a7edf75",
   "metadata": {},
   "outputs": [
    {
     "name": "stdout",
     "output_type": "stream",
     "text": [
      "0.1831111111111111\n"
     ]
    }
   ],
   "source": [
    "count75000 = 0\n",
    "for sample in x:\n",
    "    if sample > 75000:\n",
    "        count75000 += 1\n",
    "print(count75000 / len(x))"
   ]
  },
  {
   "cell_type": "markdown",
   "id": "89c7bdaa",
   "metadata": {},
   "source": [
    "平均は近いけど，他の post.sd などの値が違う？"
   ]
  }
 ],
 "metadata": {
  "kernelspec": {
   "display_name": "Python 3 (ipykernel)",
   "language": "python",
   "name": "python3"
  },
  "language_info": {
   "codemirror_mode": {
    "name": "ipython",
    "version": 3
   },
   "file_extension": ".py",
   "mimetype": "text/x-python",
   "name": "python",
   "nbconvert_exporter": "python",
   "pygments_lexer": "ipython3",
   "version": "3.7.4"
  }
 },
 "nbformat": 4,
 "nbformat_minor": 5
}
