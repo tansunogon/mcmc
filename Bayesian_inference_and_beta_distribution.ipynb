{
 "cells": [
  {
   "cell_type": "markdown",
   "id": "90ba48db",
   "metadata": {},
   "source": [
    "『基礎からのベイズ統計学\n",
    "ハミルトニアンモンテカルロ法による実践的入門』\n",
    "３章"
   ]
  },
  {
   "cell_type": "code",
   "execution_count": 1,
   "id": "e0c3cd25",
   "metadata": {},
   "outputs": [],
   "source": [
    "%matplotlib inline\n",
    "\n",
    "from ipywidgets import widgets\n",
    "import matplotlib.pyplot as plt\n",
    "import numpy as np\n",
    "from scipy.special import beta"
   ]
  },
  {
   "cell_type": "markdown",
   "id": "0ed6d47c",
   "metadata": {},
   "source": [
    "二項分布をベータ分布で近似するとどのくらい似ているか"
   ]
  },
  {
   "cell_type": "code",
   "execution_count": 2,
   "id": "8314d6e3",
   "metadata": {},
   "outputs": [
    {
     "data": {
      "application/vnd.jupyter.widget-view+json": {
       "model_id": "7ad5b6e46f574e99a0afb8c6502d238f",
       "version_major": 2,
       "version_minor": 0
      },
      "text/plain": [
       "interactive(children=(FloatSlider(value=0.5, description='theta', max=1.0, step=0.01), FloatLogSlider(value=10…"
      ]
     },
     "metadata": {},
     "output_type": "display_data"
    }
   ],
   "source": [
    "def binomial_dist(theta, n):\n",
    "    x = list()\n",
    "    y = list()\n",
    "\n",
    "    v = n * (1 - theta) ** n\n",
    "    x.append(0)\n",
    "    y.append(v)\n",
    "\n",
    "    for i in range(1, n):\n",
    "        v *= (n - i + 1) / i * theta / (1 - theta)\n",
    "        x.append(i / n)\n",
    "        y.append(v)\n",
    "\n",
    "    x.append(1)\n",
    "    y.append(n * theta ** n)\n",
    "\n",
    "    return x, y\n",
    "\n",
    "\n",
    "def beta_dist(theta, n):\n",
    "    e = theta\n",
    "    v = e * (1 - e) / n\n",
    "    r = e * (1 - e) / v - 1\n",
    "    p = r * e\n",
    "    q = r * (1 - e)\n",
    "\n",
    "    C = 1 / beta(p, q)\n",
    "\n",
    "    x = np.linspace(0, 1)\n",
    "    y = C * (x ** (p - 1)) * ((1 - x) ** (q - 1))\n",
    "    return x, y\n",
    "\n",
    "\n",
    "@widgets.interact(theta=widgets.FloatSlider(value=0.5, min=0, max=1, step=0.01),\n",
    "                  n=widgets.FloatLogSlider(value=10, max=2))\n",
    "def draw(theta, n):\n",
    "    n = int(n)\n",
    "    print(f\"theta={theta}, n={n}\")\n",
    "    \n",
    "    x, y = binomial_dist(theta, n)\n",
    "    plt.plot(x, y)\n",
    "    x, y = beta_dist(theta, n)\n",
    "    plt.plot(x, y)"
   ]
  }
 ],
 "metadata": {
  "kernelspec": {
   "display_name": "Python 3 (ipykernel)",
   "language": "python",
   "name": "python3"
  },
  "language_info": {
   "codemirror_mode": {
    "name": "ipython",
    "version": 3
   },
   "file_extension": ".py",
   "mimetype": "text/x-python",
   "name": "python",
   "nbconvert_exporter": "python",
   "pygments_lexer": "ipython3",
   "version": "3.7.4"
  }
 },
 "nbformat": 4,
 "nbformat_minor": 5
}
